{
 "cells": [
  {
   "cell_type": "code",
   "execution_count": null,
   "metadata": {},
   "outputs": [
    {
     "ename": "FileNotFoundError",
     "evalue": "[Errno 2] No such file or directory: '../minillm/results/gpt2/train/sft/e10-bs2-lr1e-05-G1-N1-NN1/log.txt'",
     "output_type": "error",
     "traceback": [
      "\u001b[0;31m---------------------------------------------------------------------------\u001b[0m",
      "\u001b[0;31mFileNotFoundError\u001b[0m                         Traceback (most recent call last)",
      "Cell \u001b[0;32mIn[1], line 59\u001b[0m\n\u001b[1;32m     57\u001b[0m \u001b[38;5;66;03m# def main():\u001b[39;00m\n\u001b[1;32m     58\u001b[0m file_path \u001b[38;5;241m=\u001b[39m \u001b[38;5;124m\"\u001b[39m\u001b[38;5;124m../minillm/results/gpt2/train/sft/e10-bs2-lr1e-05-G1-N1-NN1/log.txt\u001b[39m\u001b[38;5;124m\"\u001b[39m  \u001b[38;5;66;03m# Update with your actual file path\u001b[39;00m\n\u001b[0;32m---> 59\u001b[0m train_data, eval_metrics \u001b[38;5;241m=\u001b[39m \u001b[43mparse_log_file\u001b[49m\u001b[43m(\u001b[49m\u001b[43mfile_path\u001b[49m\u001b[43m)\u001b[49m\n\u001b[1;32m     60\u001b[0m \u001b[38;5;28mprint\u001b[39m(train_data)\n\u001b[1;32m     61\u001b[0m \u001b[38;5;28mprint\u001b[39m(eval_metrics)\n",
      "Cell \u001b[0;32mIn[1], line 8\u001b[0m, in \u001b[0;36mparse_log_file\u001b[0;34m(file_path)\u001b[0m\n\u001b[1;32m      5\u001b[0m train_data \u001b[38;5;241m=\u001b[39m []\n\u001b[1;32m      6\u001b[0m eval_metrics \u001b[38;5;241m=\u001b[39m {}\n\u001b[0;32m----> 8\u001b[0m \u001b[38;5;28;01mwith\u001b[39;00m \u001b[38;5;28;43mopen\u001b[39;49m\u001b[43m(\u001b[49m\u001b[43mfile_path\u001b[49m\u001b[43m,\u001b[49m\u001b[43m \u001b[49m\u001b[38;5;124;43m'\u001b[39;49m\u001b[38;5;124;43mr\u001b[39;49m\u001b[38;5;124;43m'\u001b[39;49m\u001b[43m)\u001b[49m \u001b[38;5;28;01mas\u001b[39;00m file:\n\u001b[1;32m      9\u001b[0m     \u001b[38;5;28;01mfor\u001b[39;00m line \u001b[38;5;129;01min\u001b[39;00m file:\n\u001b[1;32m     10\u001b[0m         line \u001b[38;5;241m=\u001b[39m line\u001b[38;5;241m.\u001b[39mstrip()\n",
      "File \u001b[0;32m~/final_project_distillLLM/venv/lib/python3.10/site-packages/IPython/core/interactiveshell.py:324\u001b[0m, in \u001b[0;36m_modified_open\u001b[0;34m(file, *args, **kwargs)\u001b[0m\n\u001b[1;32m    317\u001b[0m \u001b[38;5;28;01mif\u001b[39;00m file \u001b[38;5;129;01min\u001b[39;00m {\u001b[38;5;241m0\u001b[39m, \u001b[38;5;241m1\u001b[39m, \u001b[38;5;241m2\u001b[39m}:\n\u001b[1;32m    318\u001b[0m     \u001b[38;5;28;01mraise\u001b[39;00m \u001b[38;5;167;01mValueError\u001b[39;00m(\n\u001b[1;32m    319\u001b[0m         \u001b[38;5;124mf\u001b[39m\u001b[38;5;124m\"\u001b[39m\u001b[38;5;124mIPython won\u001b[39m\u001b[38;5;124m'\u001b[39m\u001b[38;5;124mt let you open fd=\u001b[39m\u001b[38;5;132;01m{\u001b[39;00mfile\u001b[38;5;132;01m}\u001b[39;00m\u001b[38;5;124m by default \u001b[39m\u001b[38;5;124m\"\u001b[39m\n\u001b[1;32m    320\u001b[0m         \u001b[38;5;124m\"\u001b[39m\u001b[38;5;124mas it is likely to crash IPython. If you know what you are doing, \u001b[39m\u001b[38;5;124m\"\u001b[39m\n\u001b[1;32m    321\u001b[0m         \u001b[38;5;124m\"\u001b[39m\u001b[38;5;124myou can use builtins\u001b[39m\u001b[38;5;124m'\u001b[39m\u001b[38;5;124m open.\u001b[39m\u001b[38;5;124m\"\u001b[39m\n\u001b[1;32m    322\u001b[0m     )\n\u001b[0;32m--> 324\u001b[0m \u001b[38;5;28;01mreturn\u001b[39;00m \u001b[43mio_open\u001b[49m\u001b[43m(\u001b[49m\u001b[43mfile\u001b[49m\u001b[43m,\u001b[49m\u001b[43m \u001b[49m\u001b[38;5;241;43m*\u001b[39;49m\u001b[43margs\u001b[49m\u001b[43m,\u001b[49m\u001b[43m \u001b[49m\u001b[38;5;241;43m*\u001b[39;49m\u001b[38;5;241;43m*\u001b[39;49m\u001b[43mkwargs\u001b[49m\u001b[43m)\u001b[49m\n",
      "\u001b[0;31mFileNotFoundError\u001b[0m: [Errno 2] No such file or directory: '../minillm/results/gpt2/train/sft/e10-bs2-lr1e-05-G1-N1-NN1/log.txt'"
     ]
    }
   ],
   "source": [
    "import re\n",
    "import matplotlib.pyplot as plt\n",
    "\n",
    "def parse_log_file(file_path):\n",
    "    train_data = []\n",
    "    eval_metrics = {}\n",
    "    \n",
    "    with open(file_path, 'r') as file:\n",
    "        for line in file:\n",
    "            line = line.strip()\n",
    "            #print(line)\n",
    "            parts = [p.strip() for p in line.split(\"|\")] \n",
    "            #print(parts)\n",
    "            # Extract evaluation metrics\n",
    "            if parts[0] == \"dev\":\n",
    "                # Extract evaluation metrics\n",
    "                eval_metrics[\"avg_loss\"] = float(parts[1].split(\":\")[1].strip())\n",
    "                metrics = eval(parts[2])  # Convert the dictionary string to actual dict\n",
    "                eval_metrics.update(metrics)\n",
    "\n",
    "            elif parts[0] == \"train\":\n",
    "                # Extract training details\n",
    "                #print(parts[1], parts[2], parts[5])\n",
    "                epoch = int(parts[1].split()[1])\n",
    "                iteration = int(parts[2].split()[1].split(\"/\")[0])\n",
    "                loss = float(parts[4].split(\":\")[1].strip())\n",
    "                train_data.append((epoch, iteration, loss))\n",
    "            \n",
    "    \n",
    "    return train_data, eval_metrics\n",
    "\n",
    "def plot_training_loss(train_data):\n",
    "    iterations = [entry[1] for entry in train_data]\n",
    "    losses = [entry[2] for entry in train_data]\n",
    "    \n",
    "    plt.figure(figsize=(10, 5))\n",
    "    plt.plot(iterations, losses, marker='o', linestyle='-', color='b', label='Training Loss')\n",
    "    plt.xlabel(\"Iteration\")\n",
    "    plt.ylabel(\"Loss\")\n",
    "    plt.title(\"Training Loss Over Iterations\")\n",
    "    plt.legend()\n",
    "    plt.grid()\n",
    "    plt.show()\n",
    "\n",
    "def plot_eval_metrics(eval_metrics):\n",
    "    labels = list(eval_metrics.keys())\n",
    "    values = list(eval_metrics.values())\n",
    "    \n",
    "    plt.figure(figsize=(6, 4))\n",
    "    plt.bar(labels, values, color=['r', 'g', 'b'])\n",
    "    plt.xlabel(\"Metric\")\n",
    "    plt.ylabel(\"Value\")\n",
    "    plt.title(\"Evaluation Metrics\")\n",
    "    plt.grid(axis='y')\n",
    "    plt.show()\n",
    "\n",
    "# def main():\n",
    "file_path = \"../minillm/results/gpt2/train/sft/gpt2-xlarge/e10-bs2-lr5e-05-G1-N4-NN1/log.txt\"  # Update with your actual file path\n",
    "train_data, eval_metrics = parse_log_file(file_path)\n",
    "print(train_data)\n",
    "print(eval_metrics)\n",
    "if train_data:\n",
    "    plot_training_loss(train_data)\n",
    "\n",
    "if eval_metrics:\n",
    "    plot_eval_metrics(eval_metrics)\n"
   ]
  },
  {
   "cell_type": "code",
   "execution_count": null,
   "metadata": {},
   "outputs": [
    {
     "name": "stdout",
     "output_type": "stream",
     "text": [
      "/home/users/ap794/final_project_distillLLM/gemma\n"
     ]
    }
   ],
   "source": [
    "train_path = \"../minillm/results/gpt2/train/sft/gpt2-xlarge/e10-bs2-lr5e-05-G1-N4-NN1/log.txt\"\n",
    "\n",
    "train_data, eval_metrics = parse_log_file(train_path)\n",
    "print(train_data)\n",
    "print(eval_metrics)\n",
    "if train_data:\n",
    "    plot_training_loss(train_data)\n",
    "\n",
    "if eval_metrics:\n",
    "    plot_eval_metrics(eval_metrics)"
   ]
  }
 ],
 "metadata": {
  "kernelspec": {
   "display_name": "venv",
   "language": "python",
   "name": "python3"
  },
  "language_info": {
   "codemirror_mode": {
    "name": "ipython",
    "version": 3
   },
   "file_extension": ".py",
   "mimetype": "text/x-python",
   "name": "python",
   "nbconvert_exporter": "python",
   "pygments_lexer": "ipython3",
   "version": "3.10.12"
  }
 },
 "nbformat": 4,
 "nbformat_minor": 2
}
